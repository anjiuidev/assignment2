{
 "cells": [
  {
   "cell_type": "markdown",
   "metadata": {},
   "source": [
    "# Task 1"
   ]
  },
  {
   "cell_type": "markdown",
   "metadata": {},
   "source": [
    "<b>1.1. Write a Python Program to implement your own myreduce() function which works exactly like\n",
    "Python's built-in function reduce()</b>"
   ]
  },
  {
   "cell_type": "code",
   "execution_count": 1,
   "metadata": {},
   "outputs": [
    {
     "name": "stdout",
     "output_type": "stream",
     "text": [
      "15\n"
     ]
    }
   ],
   "source": [
    "# The reduce() function accepts a function and a sequence and returns a single value.\n",
    "\n",
    "def myreduce(func, list):\n",
    "    if len(list) == 0:\n",
    "        raise Exception(\"Expected list length should be minimum 1\")\n",
    "    else:\n",
    "        output = list[0]\n",
    "        for item in list[1:]:\n",
    "            output = func(output, item)\n",
    "        return output\n",
    "\n",
    "def sum(x,y): return x+y\n",
    "\n",
    "data = [1,2,3,4,5]\n",
    "\n",
    "print(myreduce(sum, data))"
   ]
  },
  {
   "cell_type": "markdown",
   "metadata": {},
   "source": [
    "<b>1.2. Write a Python program to implement your own myfilter() function which works exactly like\n",
    "Python's built-in function filter()</b>"
   ]
  },
  {
   "cell_type": "code",
   "execution_count": 2,
   "metadata": {},
   "outputs": [
    {
     "name": "stdout",
     "output_type": "stream",
     "text": [
      "[2, 4]\n"
     ]
    }
   ],
   "source": [
    "# The filter() function accepts a function and a sequence and returns a filtered sequence.\n",
    "\n",
    "def myfilter(func, list):\n",
    "    if len(list) == 0:\n",
    "        raise Exception(\"Expected list length should be minimum 1\")\n",
    "    else:\n",
    "        output = []\n",
    "        for item in list:\n",
    "            if func(item):\n",
    "                output.append(item)\n",
    "        return output\n",
    "\n",
    "def isEven(x): return x%2 == 0\n",
    "\n",
    "data = [1,2,3,4,5]\n",
    "\n",
    "print(myfilter(isEven, data))"
   ]
  },
  {
   "cell_type": "markdown",
   "metadata": {},
   "source": [
    "<b>2. Implement List comprehensions to produce the following lists.\n",
    "Write List comprehensions to produce the following Lists\n",
    "<pre>['A', 'C', 'A', 'D', 'G', 'I', ’L’, ‘ D’]\n",
    "['x', 'xx', 'xxx', 'xxxx', 'y', 'yy', 'yyy', 'yyyy', 'z', 'zz', 'zzz', 'zzzz']\n",
    "['x', 'y', 'z', 'xx', 'yy', 'zz', 'xx', 'yy', 'zz', 'xxxx', 'yyyy', 'zzzz']\n",
    "[[2], [3], [4], [3], [4], [5], [4], [5], [6]]\n",
    "[[2, 3, 4, 5], [3, 4, 5, 6], [4, 5, 6, 7], [5, 6, 7, 8]]\n",
    "[(1, 1), (2, 1), (3, 1), (1, 2), (2, 2), (3, 2), (1, 3), (2, 3), (3, 3)]</pre></b>"
   ]
  },
  {
   "cell_type": "code",
   "execution_count": 4,
   "metadata": {},
   "outputs": [
    {
     "name": "stdout",
     "output_type": "stream",
     "text": [
      "ACADGILD => ['A', 'C', 'A', 'D', 'G', 'I', 'L', 'D']\n",
      "['x','y','z'] => ['x', 'xx', 'xxx', 'xxxx', 'y', 'yy', 'yyy', 'yyyy', 'z', 'zz', 'zzz', 'zzzz']\n",
      "['x','y','z'] => ['x', 'y', 'z', 'xx', 'yy', 'zz', 'xxx', 'yyy', 'zzz', 'xxxx', 'yyyy', 'zzzz']\n",
      "[2,3,4] =>[[2], [3], [4], [3], [4], [5], [4], [5], [6]]\n",
      "[2,3,4,5] =>[[2, 3, 4], [3, 4, 5], [4, 5, 6], [5, 6, 7]]\n",
      "[1,2,3] =>[(1, 1), (2, 1), (3, 1), (1, 2), (2, 2), (3, 2), (1, 3), (2, 3), (3, 3)]\n"
     ]
    }
   ],
   "source": [
    "word = \"ACADGILD\"\n",
    "alphabet_list = [ alphabet for alphabet in word ]\n",
    "print (\"ACADGILD => \" + str(alphabet_list))\n",
    "\n",
    "#####################\n",
    "\n",
    "list1 = ['x','y','z']\n",
    "result = [ item*num for item in list1 for num in range(1,5)  ]\n",
    "print(\"['x','y','z'] => \" +   str(result))\n",
    "\n",
    "result = [ item*num for num in range(1,5) for item in list1  ]\n",
    "print(\"['x','y','z'] => \" +   str(result))\n",
    "\n",
    "####################\n",
    "\n",
    "list2 = [2,3,4]\n",
    "result = [ [item+num] for item in list2 for num in range(0,3)]\n",
    "print(\"[2,3,4] =>\" +  str(result))\n",
    "\n",
    "result = [ [item+num for item in list2] for num in range(0,4)  ]\n",
    "print(\"[2,3,4,5] =>\" +  str(result))\n",
    "\n",
    "#######################\n",
    "list3=[1,2,3]\n",
    "result = [ (b,a) for a in list3 for b in list3]\n",
    "print(\"[1,2,3] =>\" +  str(result))"
   ]
  },
  {
   "cell_type": "markdown",
   "metadata": {},
   "source": [
    "<b>3. Implement a function longestWord() that takes a list of words and returns the longest one.</b>"
   ]
  },
  {
   "cell_type": "code",
   "execution_count": 5,
   "metadata": {},
   "outputs": [
    {
     "name": "stdout",
     "output_type": "stream",
     "text": [
      "Data Science\n"
     ]
    }
   ],
   "source": [
    "def longestWord(data):\n",
    "    words_length = []\n",
    "    for word in data:\n",
    "        words_length.append((len(word), word))\n",
    "    words_length.sort()\n",
    "    return words_length[-1][1]\n",
    "    \n",
    "words = [\"Python\",\"Numpy\",\"Pandas\",\"Data Science\"]\n",
    "print(longestWord(words))"
   ]
  },
  {
   "cell_type": "markdown",
   "metadata": {},
   "source": [
    "# Task 2"
   ]
  },
  {
   "cell_type": "markdown",
   "metadata": {},
   "source": [
    "<b>1.1. Write a Python Program(with class concepts) to find the area of the triangle using the below\n",
    "formula. <br>\n",
    "area = (s*(s-a)*(s-b)*(s-c)) ** 0.5 <br>\n",
    "Function to take the length of the sides of triangle from user should be defined in the parent\n",
    "class and function to calculate the area should be defined in subclass.</b>"
   ]
  },
  {
   "cell_type": "code",
   "execution_count": 6,
   "metadata": {},
   "outputs": [
    {
     "name": "stdout",
     "output_type": "stream",
     "text": [
      "Triangle initialised with the given side values.\n",
      "Area of the give Triangle is:  2.9047375096555625\n"
     ]
    }
   ],
   "source": [
    "class Triangle:\n",
    "    def __init__(self, a, b, c):\n",
    "        self.a = a\n",
    "        self.b = b\n",
    "        self.c = c\n",
    "        print(\"Triangle initialised with the given side values.\")\n",
    "        \n",
    "class AreaTriangle(Triangle):\n",
    "    def __init__(self, a, b, c):\n",
    "        super(AreaTriangle, self).__init__(a, b, c)\n",
    "        \n",
    "    def getArea(self):\n",
    "        s = (self.a + self.b + self.c) / 2\n",
    "        return (s*(s-self.a)*(s-self.b)*(s-self.c))**0.5\n",
    "    \n",
    "triangle = AreaTriangle(2,3,4)\n",
    "\n",
    "print(\"Area of the give Triangle is: \", triangle.getArea())"
   ]
  },
  {
   "cell_type": "markdown",
   "metadata": {},
   "source": [
    "<b>1.2. Write a function filter_long_words() that takes a list of words and an integer n and returns the list\n",
    "of words that are longer than n.</b>"
   ]
  },
  {
   "cell_type": "code",
   "execution_count": 7,
   "metadata": {},
   "outputs": [
    {
     "name": "stdout",
     "output_type": "stream",
     "text": [
      "['Python', 'Pandas', 'Data Science']\n"
     ]
    }
   ],
   "source": [
    "def filter_long_words(words, n):\n",
    "    return list(filter(lambda x:len(x) > n, words))\n",
    "\n",
    "words = [\"Python\",\"Numpy\",\"Pandas\",\"Data Science\"]\n",
    "print(filter_long_words(words, 5))"
   ]
  },
  {
   "cell_type": "markdown",
   "metadata": {},
   "source": [
    "<b>2.1. Write a Python program using function concept that maps list of words into a list of integers\n",
    "representing the lengths of the corresponding words.\n",
    "<br>Hint: If a list [ ab,cde,erty] is passed on to the python function output should come as [2,3,4]\n",
    "<br>Here 2,3 and 4 are the lengths of the words in the list.</b>"
   ]
  },
  {
   "cell_type": "code",
   "execution_count": 8,
   "metadata": {},
   "outputs": [
    {
     "name": "stdout",
     "output_type": "stream",
     "text": [
      "[6, 5, 6, 12]\n"
     ]
    }
   ],
   "source": [
    "def word_length(words):\n",
    "    return list(map(lambda x: len(x), words))\n",
    "\n",
    "words = [\"Python\",\"Numpy\",\"Pandas\",\"Data Science\"]\n",
    "print(word_length(words))"
   ]
  },
  {
   "cell_type": "markdown",
   "metadata": {},
   "source": [
    "<b>2.2. Write a Python function which takes a character (i.e. a string of length 1) and returns True if it is\n",
    "a vowel, False otherwise</b>"
   ]
  },
  {
   "cell_type": "code",
   "execution_count": 9,
   "metadata": {},
   "outputs": [
    {
     "name": "stdout",
     "output_type": "stream",
     "text": [
      "True\n",
      "False\n"
     ]
    }
   ],
   "source": [
    "def checkVowel(char):\n",
    "    vowels = 'aeiou'\n",
    "    x = vowels.find(char)\n",
    "    if x >= 0:\n",
    "        return True\n",
    "    else:\n",
    "        return False\n",
    "    \n",
    "print(checkVowel('i'))\n",
    "print(checkVowel('d'))"
   ]
  },
  {
   "cell_type": "code",
   "execution_count": null,
   "metadata": {},
   "outputs": [],
   "source": []
  }
 ],
 "metadata": {
  "kernelspec": {
   "display_name": "Python 3",
   "language": "python",
   "name": "python3"
  },
  "language_info": {
   "codemirror_mode": {
    "name": "ipython",
    "version": 3
   },
   "file_extension": ".py",
   "mimetype": "text/x-python",
   "name": "python",
   "nbconvert_exporter": "python",
   "pygments_lexer": "ipython3",
   "version": "3.7.3"
  }
 },
 "nbformat": 4,
 "nbformat_minor": 2
}
